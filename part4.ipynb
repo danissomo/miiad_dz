{
 "cells": [
  {
   "cell_type": "code",
   "execution_count": 3,
   "metadata": {},
   "outputs": [
    {
     "name": "stdout",
     "output_type": "stream",
     "text": [
      "<class 'pandas.core.frame.DataFrame'>\n",
      "Int64Index: 1044 entries, 0 to 648\n",
      "Data columns (total 33 columns):\n",
      " #   Column      Non-Null Count  Dtype \n",
      "---  ------      --------------  ----- \n",
      " 0   school      1044 non-null   object\n",
      " 1   sex         1044 non-null   object\n",
      " 2   age         1044 non-null   int64 \n",
      " 3   address     1044 non-null   object\n",
      " 4   famsize     1044 non-null   object\n",
      " 5   Pstatus     1044 non-null   object\n",
      " 6   Medu        1044 non-null   int64 \n",
      " 7   Fedu        1044 non-null   int64 \n",
      " 8   Mjob        1044 non-null   object\n",
      " 9   Fjob        1044 non-null   object\n",
      " 10  reason      1044 non-null   object\n",
      " 11  guardian    1044 non-null   object\n",
      " 12  traveltime  1044 non-null   int64 \n",
      " 13  studytime   1044 non-null   int64 \n",
      " 14  failures    1044 non-null   int64 \n",
      " 15  schoolsup   1044 non-null   object\n",
      " 16  famsup      1044 non-null   object\n",
      " 17  paid        1044 non-null   object\n",
      " 18  activities  1044 non-null   object\n",
      " 19  nursery     1044 non-null   object\n",
      " 20  higher      1044 non-null   object\n",
      " 21  internet    1044 non-null   object\n",
      " 22  romantic    1044 non-null   object\n",
      " 23  famrel      1044 non-null   int64 \n",
      " 24  freetime    1044 non-null   int64 \n",
      " 25  goout       1044 non-null   int64 \n",
      " 26  Dalc        1044 non-null   int64 \n",
      " 27  Walc        1044 non-null   int64 \n",
      " 28  health      1044 non-null   int64 \n",
      " 29  absences    1044 non-null   int64 \n",
      " 30  G1          1044 non-null   int64 \n",
      " 31  G2          1044 non-null   int64 \n",
      " 32  G3          1044 non-null   int64 \n",
      "dtypes: int64(16), object(17)\n",
      "memory usage: 277.3+ KB\n",
      "[0 0 3 ... 0 5 5]\n"
     ]
    }
   ],
   "source": [
    "import numpy as np\n",
    "from sklearn import preprocessing\n",
    "from sklearn.preprocessing import OrdinalEncoder\n",
    "import pandas\n",
    "data1 = pandas.read_csv(\"archive/student-mat.csv\")\n",
    "data2 = pandas.read_csv(\"archive/student-por.csv\")\n",
    "frame = pandas.concat([data1, data2])\n",
    "frame.info()\n",
    "lab = preprocessing.LabelEncoder()\n",
    "for key in frame:\n",
    "    if frame[key].dtype == np.object_:\n",
    "        frame[key] = frame[key].astype('category').cat.codes\n",
    "\n",
    "target = (frame['Dalc']+frame['Walc'])/2.0\n",
    "target = lab.fit_transform(target)\n",
    "frame = frame.drop_duplicates()\n",
    "frame = frame.drop(['Dalc', 'Walc'], axis =1)\n",
    "from sklearn.model_selection import train_test_split\n",
    "X_train, X_test, y_train, y_test = train_test_split(frame, target, test_size=0.33, random_state=0)\n",
    "print(target)"
   ]
  },
  {
   "cell_type": "code",
   "execution_count": 4,
   "metadata": {},
   "outputs": [],
   "source": [
    "from sklearn.linear_model import LogisticRegression\n",
    "from sklearn.svm import SVC\n",
    "from sklearn.tree import DecisionTreeClassifier\n",
    "import sklearn.metrics as metrics\n",
    "from sklearn.preprocessing import StandardScaler\n",
    "from sklearn.pipeline import make_pipeline\n",
    "import time\n",
    "from prettytable import PrettyTable\n",
    "from sklearn.ensemble import BaggingClassifier, StackingClassifier, AdaBoostClassifier"
   ]
  },
  {
   "cell_type": "code",
   "execution_count": 2,
   "metadata": {},
   "outputs": [
    {
     "name": "stdout",
     "output_type": "stream",
     "text": [
      "+----------------+--------------------+--------------------+----------------------+-----------------------+\n",
      "|                |         f1         |        acc         |    train time, s     |      eval time, s     |\n",
      "+----------------+--------------------+--------------------+----------------------+-----------------------+\n",
      "| tree_rnd_mf=30 | 0.5554853858271502 | 0.5594202898550724 | 0.005110263824462891 | 0.0010678768157958984 |\n",
      "|    svc_c=20    | 0.5602973079569759 | 0.5739130434782609 | 0.05443167686462402  |  0.019656896591186523 |\n",
      "|    bag_tree    | 0.6010580716201188 | 0.6173913043478261 |  3.3093011379241943  |   0.880720853805542   |\n",
      "+----------------+--------------------+--------------------+----------------------+-----------------------+\n"
     ]
    }
   ],
   "source": [
    "\n",
    "table = PrettyTable()\n",
    "table.field_names = ['', 'f1', 'acc', 'train time, s', 'eval time, s']\n",
    "C = [20]\n",
    "MaxFeatures = [ 30]\n",
    "models = dict()\n",
    "models.update(\n",
    "    { f\"tree_rnd_mf={mf}\" : make_pipeline(StandardScaler(), DecisionTreeClassifier(random_state=0, max_features = mf, splitter='random',)) for mf in MaxFeatures}\n",
    ")\n",
    "models.update({ f\"svc_c={c:2}\": make_pipeline(StandardScaler(), SVC(random_state=0,C=c)) for c in C  })\n",
    "\n",
    "tree_bagging = BaggingClassifier(base_estimator=DecisionTreeClassifier(max_features =30, splitter='random'), random_state=0, n_estimators=4000, n_jobs=8)\n",
    "models.update( {\"bag_tree\": tree_bagging})\n",
    "for key in models:\n",
    "    t_time = time.time()\n",
    "    model = models[key].fit(X_train, y_train)\n",
    "    train_time = time.time() - t_time\n",
    "    t_time = time.time()\n",
    "    pred_target = model.predict(X_test)\n",
    "    eval_time = time.time() - t_time\n",
    "    score = metrics.f1_score(y_test, pred_target, average='weighted')\n",
    "    acc = metrics.accuracy_score(y_test, pred_target)\n",
    "    table.add_row( [key, score, acc, train_time, eval_time])\n",
    "    # print(f'{key}: f1 {score: .16f}, acc {acc : .16f}, train time {train_time : 6.8f} s, eval time {eval_time : 6.8f} ms')\n",
    "    # print(model.get_params())\n",
    "print(table)\n"
   ]
  },
  {
   "cell_type": "markdown",
   "metadata": {},
   "source": [
    "Исследуем зависимость качества ```BaggingClassifier``` от количества эстиматоров"
   ]
  },
  {
   "cell_type": "code",
   "execution_count": 9,
   "metadata": {},
   "outputs": [
    {
     "name": "stdout",
     "output_type": "stream",
     "text": [
      "+------------------+--------------------+--------------------+---------------------+---------------------+\n",
      "|                  |         f1         |        acc         |    train time, s    |     eval time, s    |\n",
      "+------------------+--------------------+--------------------+---------------------+---------------------+\n",
      "|  bag_tree_n=100  | 0.5947075082108161 | 0.6086956521739131 | 0.11082935333251953 | 0.05150270462036133 |\n",
      "|  bag_tree_n=500  | 0.5983145674442539 | 0.6144927536231884 |  0.4230537414550781 |  0.1827397346496582 |\n",
      "| bag_tree_n=1000  | 0.6019296276056831 | 0.6173913043478261 |  0.7343919277191162 |  0.2426607608795166 |\n",
      "| bag_tree_n=2500  | 0.5998628890217126 | 0.6144927536231884 |  1.5923500061035156 |  0.6202828884124756 |\n",
      "| bag_tree_n=2700  | 0.5996304382173265 | 0.6144927536231884 |  1.7385013103485107 |  0.5673666000366211 |\n",
      "| bag_tree_n=3000  | 0.6044043605286705 | 0.6202898550724638 |  1.7689261436462402 |  0.6079962253570557 |\n",
      "| bag_tree_n=4000  | 0.6010580716201188 | 0.6173913043478261 |  2.354987144470215  |  0.8267724514007568 |\n",
      "| bag_tree_n=10000 | 0.6003297159202371 | 0.6173913043478261 |  6.0936431884765625 |  2.239262580871582  |\n",
      "+------------------+--------------------+--------------------+---------------------+---------------------+\n"
     ]
    }
   ],
   "source": [
    "\n",
    "models = dict()\n",
    "n_estimators_a = [100, 500, 1000, 2500, 2700, 3000, 4000, 10000]\n",
    "table = PrettyTable()\n",
    "table.field_names = ['', 'f1', 'acc', 'train time, s', 'eval time, s']\n",
    "models = dict()\n",
    "for i in n_estimators_a:\n",
    "    tree_bagging = BaggingClassifier(base_estimator=DecisionTreeClassifier(max_features =30, splitter='random'), random_state=0, n_estimators=i, n_jobs=8)\n",
    "    models.update( {f\"bag_tree_n={i}\": tree_bagging})\n",
    "f1_score = []\n",
    "train_time_sum = []\n",
    "eval_time_sum = []\n",
    "for key in models:\n",
    "    t_time = time.time()\n",
    "    model = models[key].fit(X_train, y_train)\n",
    "    train_time = time.time() - t_time\n",
    "    t_time = time.time()\n",
    "    pred_target = model.predict(X_test)\n",
    "    eval_time = time.time() - t_time\n",
    "    score = metrics.f1_score(y_test, pred_target, average='weighted')\n",
    "    acc = metrics.accuracy_score(y_test, pred_target)\n",
    "    table.add_row( [key, score, acc, train_time, eval_time])\n",
    "    f1_score.append(score)\n",
    "    train_time_sum.append(train_time)\n",
    "    eval_time_sum.append(eval_time)\n",
    "print(table)\n"
   ]
  },
  {
   "cell_type": "code",
   "execution_count": 10,
   "metadata": {},
   "outputs": [
    {
     "data": {
      "image/png": "[encoded data removed]",
      "text/plain": [
       "<Figure size 504x144 with 2 Axes>"
      ]
     },
     "metadata": {
      "needs_background": "light"
     },
     "output_type": "display_data"
    }
   ],
   "source": [
    "import matplotlib.pyplot as plt\n",
    "plt.rcParams['figure.figsize'] = [7, 2]\n",
    "figs, axs = plt.subplots(1, 2)\n",
    "axs[0].plot(n_estimators_a, f1_score)\n",
    "\n",
    "axs[0].set_title(\"f1_score\")\n",
    "axs[0].set_xlabel(\"n_estimators\")\n",
    "axs[0].set_ylabel(\"f1_score\")\n",
    "\n",
    "axs[1].set_title(\"time\")\n",
    "axs[1].set_xlabel(\"n_estimators\")\n",
    "axs[1].set_ylabel(\"time\")\n",
    "\n",
    "axs[1].plot(n_estimators_a, eval_time_sum)\n",
    "axs[1].plot(n_estimators_a, train_time_sum)\n",
    "plt.show()"
   ]
  },
  {
   "cell_type": "markdown",
   "metadata": {},
   "source": [
    "Итого максимум качества, которого удалось добиться с помощью композиции деревьев 0.6044043605286705 с ```n_estimator```=3000, достигнута методом бэггинга. Все остальные модели показали себя хуже, чем версии без композиций."
   ]
  }
 ],
 "metadata": {
  "interpreter": {
   "hash": "31f2aee4e71d21fbe5cf8b01ff0e069b9275f58929596ceb00d14d90e3e16cd6"
  },
  "kernelspec": {
   "display_name": "Python 3.6.9 64-bit",
   "language": "python",
   "name": "python3"
  },
  "language_info": {
   "codemirror_mode": {
    "name": "ipython",
    "version": 3
   },
   "file_extension": ".py",
   "mimetype": "text/x-python",
   "name": "python",
   "nbconvert_exporter": "python",
   "pygments_lexer": "ipython3",
   "version": "3.8.10"
  },
  "orig_nbformat": 4
 },
 "nbformat": 4,
 "nbformat_minor": 2
}
