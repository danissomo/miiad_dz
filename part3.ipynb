{
 "cells": [
  {
   "cell_type": "code",
   "execution_count": 11,
   "metadata": {},
   "outputs": [
    {
     "name": "stdout",
     "output_type": "stream",
     "text": [
      "<class 'pandas.core.frame.DataFrame'>\n",
      "Int64Index: 1044 entries, 0 to 648\n",
      "Data columns (total 33 columns):\n",
      " #   Column      Non-Null Count  Dtype \n",
      "---  ------      --------------  ----- \n",
      " 0   school      1044 non-null   object\n",
      " 1   sex         1044 non-null   object\n",
      " 2   age         1044 non-null   int64 \n",
      " 3   address     1044 non-null   object\n",
      " 4   famsize     1044 non-null   object\n",
      " 5   Pstatus     1044 non-null   object\n",
      " 6   Medu        1044 non-null   int64 \n",
      " 7   Fedu        1044 non-null   int64 \n",
      " 8   Mjob        1044 non-null   object\n",
      " 9   Fjob        1044 non-null   object\n",
      " 10  reason      1044 non-null   object\n",
      " 11  guardian    1044 non-null   object\n",
      " 12  traveltime  1044 non-null   int64 \n",
      " 13  studytime   1044 non-null   int64 \n",
      " 14  failures    1044 non-null   int64 \n",
      " 15  schoolsup   1044 non-null   object\n",
      " 16  famsup      1044 non-null   object\n",
      " 17  paid        1044 non-null   object\n",
      " 18  activities  1044 non-null   object\n",
      " 19  nursery     1044 non-null   object\n",
      " 20  higher      1044 non-null   object\n",
      " 21  internet    1044 non-null   object\n",
      " 22  romantic    1044 non-null   object\n",
      " 23  famrel      1044 non-null   int64 \n",
      " 24  freetime    1044 non-null   int64 \n",
      " 25  goout       1044 non-null   int64 \n",
      " 26  Dalc        1044 non-null   int64 \n",
      " 27  Walc        1044 non-null   int64 \n",
      " 28  health      1044 non-null   int64 \n",
      " 29  absences    1044 non-null   int64 \n",
      " 30  G1          1044 non-null   int64 \n",
      " 31  G2          1044 non-null   int64 \n",
      " 32  G3          1044 non-null   int64 \n",
      "dtypes: int64(16), object(17)\n",
      "memory usage: 277.3+ KB\n",
      "[0 0 3 ... 0 5 5]\n"
     ]
    }
   ],
   "source": [
    "import numpy as np\n",
    "from sklearn import preprocessing\n",
    "from sklearn.preprocessing import OrdinalEncoder\n",
    "import pandas\n",
    "data1 = pandas.read_csv(\"archive/student-mat.csv\")\n",
    "data2 = pandas.read_csv(\"archive/student-por.csv\")\n",
    "frame = pandas.concat([data1, data2])\n",
    "frame.info()\n",
    "lab = preprocessing.LabelEncoder()\n",
    "for key in frame:\n",
    "    if frame[key].dtype == np.object_:\n",
    "        frame[key] = frame[key].astype('category').cat.codes\n",
    "\n",
    "target = (frame['Dalc']+frame['Walc'])/2.0\n",
    "target = lab.fit_transform(target)\n",
    "frame = frame.drop_duplicates()\n",
    "frame = frame.drop(['Dalc', 'Walc'], axis =1)\n",
    "print(target)"
   ]
  },
  {
   "cell_type": "code",
   "execution_count": 22,
   "metadata": {},
   "outputs": [
    {
     "name": "stdout",
     "output_type": "stream",
     "text": [
      "0.2928716078448722 0.47126436781609193\n",
      "0.0 0.37452107279693486\n"
     ]
    }
   ],
   "source": [
    "from sklearn.linear_model import LogisticRegression\n",
    "from sklearn.svm import SVC\n",
    "import sklearn.metrics as metrics\n",
    "models = [  LogisticRegression(random_state=0, max_iter=10000), \n",
    "            SVC(random_state=0,)]\n",
    "for model in models:\n",
    "    model = model.fit(frame, target)\n",
    "    pred_target = model.predict(frame)\n",
    "    score = metrics.matthews_corrcoef(target, pred_target)\n",
    "    acc = metrics.accuracy_score(target, pred_target)\n",
    "    print(score, acc)\n",
    "\n"
   ]
  }
 ],
 "metadata": {
  "kernelspec": {
   "display_name": "Python 3.10.4 64-bit",
   "language": "python",
   "name": "python3"
  },
  "language_info": {
   "codemirror_mode": {
    "name": "ipython",
    "version": 3
   },
   "file_extension": ".py",
   "mimetype": "text/x-python",
   "name": "python",
   "nbconvert_exporter": "python",
   "pygments_lexer": "ipython3",
   "version": "3.10.4"
  },
  "orig_nbformat": 4,
  "vscode": {
   "interpreter": {
    "hash": "916dbcbb3f70747c44a77c7bcd40155683ae19c65e1c03b4aa3499c5328201f1"
   }
  }
 },
 "nbformat": 4,
 "nbformat_minor": 2
}
