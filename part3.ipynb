{
 "cells": [
  {
   "cell_type": "code",
   "execution_count": 110,
   "metadata": {},
   "outputs": [
    {
     "name": "stdout",
     "output_type": "stream",
     "text": [
      "Requirement already satisfied: prettytable in /home/daniil/.local/lib/python3.8/site-packages (3.4.1)\n",
      "Requirement already satisfied: wcwidth in /home/daniil/.local/lib/python3.8/site-packages (from prettytable) (0.2.5)\n"
     ]
    }
   ],
   "source": [
    "! pip install prettytable"
   ]
  },
  {
   "cell_type": "code",
   "execution_count": 1,
   "metadata": {},
   "outputs": [
    {
     "name": "stdout",
     "output_type": "stream",
     "text": [
      "<class 'pandas.core.frame.DataFrame'>\n",
      "Int64Index: 1044 entries, 0 to 648\n",
      "Data columns (total 33 columns):\n",
      " #   Column      Non-Null Count  Dtype \n",
      "---  ------      --------------  ----- \n",
      " 0   school      1044 non-null   object\n",
      " 1   sex         1044 non-null   object\n",
      " 2   age         1044 non-null   int64 \n",
      " 3   address     1044 non-null   object\n",
      " 4   famsize     1044 non-null   object\n",
      " 5   Pstatus     1044 non-null   object\n",
      " 6   Medu        1044 non-null   int64 \n",
      " 7   Fedu        1044 non-null   int64 \n",
      " 8   Mjob        1044 non-null   object\n",
      " 9   Fjob        1044 non-null   object\n",
      " 10  reason      1044 non-null   object\n",
      " 11  guardian    1044 non-null   object\n",
      " 12  traveltime  1044 non-null   int64 \n",
      " 13  studytime   1044 non-null   int64 \n",
      " 14  failures    1044 non-null   int64 \n",
      " 15  schoolsup   1044 non-null   object\n",
      " 16  famsup      1044 non-null   object\n",
      " 17  paid        1044 non-null   object\n",
      " 18  activities  1044 non-null   object\n",
      " 19  nursery     1044 non-null   object\n",
      " 20  higher      1044 non-null   object\n",
      " 21  internet    1044 non-null   object\n",
      " 22  romantic    1044 non-null   object\n",
      " 23  famrel      1044 non-null   int64 \n",
      " 24  freetime    1044 non-null   int64 \n",
      " 25  goout       1044 non-null   int64 \n",
      " 26  Dalc        1044 non-null   int64 \n",
      " 27  Walc        1044 non-null   int64 \n",
      " 28  health      1044 non-null   int64 \n",
      " 29  absences    1044 non-null   int64 \n",
      " 30  G1          1044 non-null   int64 \n",
      " 31  G2          1044 non-null   int64 \n",
      " 32  G3          1044 non-null   int64 \n",
      "dtypes: int64(16), object(17)\n",
      "memory usage: 277.3+ KB\n",
      "[0 0 3 ... 0 5 5]\n"
     ]
    }
   ],
   "source": [
    "import numpy as np\n",
    "from sklearn import preprocessing\n",
    "from sklearn.preprocessing import OrdinalEncoder\n",
    "import pandas\n",
    "data1 = pandas.read_csv(\"archive/student-mat.csv\")\n",
    "data2 = pandas.read_csv(\"archive/student-por.csv\")\n",
    "frame = pandas.concat([data1, data2])\n",
    "frame.info()\n",
    "lab = preprocessing.LabelEncoder()\n",
    "for key in frame:\n",
    "    if frame[key].dtype == np.object_:\n",
    "        frame[key] = frame[key].astype('category').cat.codes\n",
    "\n",
    "target = (frame['Dalc']+frame['Walc'])/2.0\n",
    "target = lab.fit_transform(target)\n",
    "frame = frame.drop_duplicates()\n",
    "frame = frame.drop(['Dalc', 'Walc'], axis =1)\n",
    "from sklearn.model_selection import train_test_split\n",
    "X_train, X_test, y_train, y_test = train_test_split(frame, target, test_size=0.33, random_state=0)\n",
    "print(target)"
   ]
  },
  {
   "cell_type": "markdown",
   "metadata": {},
   "source": [
    "## Железо\n",
    "```\n",
    "CPU: 11th Gen Intel i5-1135G7 (8) @ 4.200GHz \n",
    "GPU: Intel Iris Xe\n",
    "Memory: 15801MiB \n",
    "```"
   ]
  },
  {
   "cell_type": "code",
   "execution_count": 121,
   "metadata": {},
   "outputs": [
    {
     "name": "stdout",
     "output_type": "stream",
     "text": [
      "+------------------+---------------------+---------------------+-----------------------+-----------------------+\n",
      "|                  |          f1         |         acc         |     train time, s     |      eval time, s     |\n",
      "+------------------+---------------------+---------------------+-----------------------+-----------------------+\n",
      "|   logreg_auto    | 0.32564489737157337 |  0.3855072463768116 |  0.025255203247070312 | 0.0011208057403564453 |\n",
      "|   logreg_augm    |  0.3249645091697492 |  0.3826086956521739 |   2.302488088607788   |  0.00119781494140625  |\n",
      "|     tree_det     |  0.4443835949152474 |  0.4405797101449275 |  0.005601167678833008 |  0.001226186752319336 |\n",
      "|     tree_rnd     |  0.5005824288083126 |  0.5072463768115942 | 0.0038576126098632812 | 0.0011570453643798828 |\n",
      "| tree_rnd_mf=None |  0.5005824288083126 |  0.5072463768115942 |  0.004448890686035156 | 0.0019745826721191406 |\n",
      "|  tree_rnd_mf=1   |  0.4275823349349983 | 0.43478260869565216 | 0.0025396347045898438 | 0.0008816719055175781 |\n",
      "|  tree_rnd_mf=10  |  0.5180613605840569 |  0.5217391304347826 |  0.002928495407104492 | 0.0012705326080322266 |\n",
      "|  tree_rnd_mf=20  |  0.4372648151725198 |  0.4434782608695652 |  0.00430750846862793  | 0.0030901432037353516 |\n",
      "|  tree_rnd_mf=30  |  0.5554853858271502 |  0.5594202898550724 |  0.005712747573852539 |  0.002209186553955078 |\n",
      "|  tree_rnd_mf=31  |  0.5005824288083126 |  0.5072463768115942 |  0.006663799285888672 | 0.0015497207641601562 |\n",
      "|     svc_c= 1     | 0.32218439328220405 |  0.4144927536231884 |  0.04848170280456543  |  0.014343976974487305 |\n",
      "|     svc_c=10     |  0.5545710206800779 |  0.5681159420289855 |  0.04346442222595215  |  0.013866901397705078 |\n",
      "|     svc_c=20     |  0.5602973079569759 |  0.5739130434782609 |  0.041431427001953125 |  0.013137102127075195 |\n",
      "|     svc_c=30     |  0.5602973079569759 |  0.5739130434782609 |  0.042008399963378906 |  0.013281106948852539 |\n",
      "+------------------+---------------------+---------------------+-----------------------+-----------------------+\n"
     ]
    }
   ],
   "source": [
    "from sklearn.linear_model import LogisticRegression\n",
    "from sklearn.svm import SVC\n",
    "from sklearn.tree import DecisionTreeClassifier\n",
    "import sklearn.metrics as metrics\n",
    "from sklearn.preprocessing import StandardScaler\n",
    "from sklearn.pipeline import make_pipeline\n",
    "import time\n",
    "from prettytable import PrettyTable\n",
    "table = PrettyTable()\n",
    "table.field_names = ['', 'f1', 'acc', 'train time, s', 'eval time, s']\n",
    "C = [1, 10, 20, 30]\n",
    "MaxFeatures = [None, 1, 10, 20, 30, 31]\n",
    "models = { \"logreg_auto\":  make_pipeline(StandardScaler(), LogisticRegression(random_state=0, max_iter=10000)), \n",
    "           \"logreg_augm\":  make_pipeline(StandardScaler(), LogisticRegression(random_state=0, l1_ratio= 0.5, C=10, max_iter=10000, penalty='elasticnet', solver='saga')), \n",
    "           \"tree_det\" : make_pipeline(StandardScaler(), DecisionTreeClassifier(random_state=0)),\n",
    "           \"tree_rnd\" : make_pipeline(StandardScaler(), DecisionTreeClassifier(random_state=0, splitter='random')),\n",
    "           }\n",
    "models.update(\n",
    "    { f\"tree_rnd_mf={mf}\" : make_pipeline(StandardScaler(), DecisionTreeClassifier(random_state=0, max_features = mf, splitter='random',)) for mf in MaxFeatures}\n",
    ")\n",
    "models.update({ f\"svc_c={c:2}\": make_pipeline(StandardScaler(), SVC(random_state=0,C=c)) for c in C  })\n",
    "for key in models:\n",
    "    t_time = time.time()\n",
    "    model = models[key].fit(X_train, y_train)\n",
    "    train_time = time.time() - t_time\n",
    "    t_time = time.time()\n",
    "    pred_target = model.predict(X_test)\n",
    "    eval_time = time.time() - t_time\n",
    "    score = metrics.f1_score(y_test, pred_target, average='weighted')\n",
    "    acc = metrics.accuracy_score(y_test, pred_target)\n",
    "    table.add_row( [key, score, acc, train_time, eval_time])\n",
    "    # print(f'{key}: f1 {score: .16f}, acc {acc : .16f}, train time {train_time : 6.8f} s, eval time {eval_time : 6.8f} ms')\n",
    "    # print(model.get_params())\n",
    "print(table)\n"
   ]
  },
  {
   "cell_type": "markdown",
   "metadata": {},
   "source": [
    "```\n",
    "+------------------+---------------------+---------------------+-----------------------+-----------------------+\n",
    "|                  |          f1         |         acc         |     train time, s     |      eval time, s     |\n",
    "+------------------+---------------------+---------------------+-----------------------+-----------------------+\n",
    "|   logreg_auto    | 0.32564489737157337 |  0.3855072463768116 |  0.031804800033569336 | 0.0018575191497802734 |\n",
    "|   logreg_augm    |  0.3249645091697492 |  0.3826086956521739 |    2.27571177482605   | 0.0014293193817138672 |\n",
    "|     tree_det     |  0.4443835949152474 |  0.4405797101449275 |  0.005755424499511719 | 0.0014986991882324219 |\n",
    "|     tree_rnd     |  0.5005824288083126 |  0.5072463768115942 |  0.004888057708740234 | 0.0013632774353027344 |\n",
    "| tree_rnd_mf=None |  0.5005824288083126 |  0.5072463768115942 |  0.003822803497314453 | 0.0014240741729736328 |\n",
    "|  tree_rnd_mf=1   |  0.4275823349349983 | 0.43478260869565216 | 0.0062901973724365234 | 0.0017130374908447266 |\n",
    "|  tree_rnd_mf=10  |  0.5180613605840569 |  0.5217391304347826 | 0.0033257007598876953 |  0.001035451889038086 |\n",
    "|  tree_rnd_mf=20  |  0.4372648151725198 |  0.4434782608695652 |  0.00526118278503418  |  0.002385377883911133 |\n",
    "|  tree_rnd_mf=30  |  0.5554853858271502 |  0.5594202898550724 |  0.005181074142456055 |  0.001150369644165039 |\n",
    "|  tree_rnd_mf=31  |  0.5005824288083126 |  0.5072463768115942 |  0.004177570343017578 | 0.0018146038055419922 |\n",
    "|     svc_c= 1     | 0.32218439328220405 |  0.4144927536231884 |  0.03711271286010742  |  0.01515650749206543  |\n",
    "|     svc_c=10     |  0.5545710206800779 |  0.5681159420289855 |  0.047840118408203125 |  0.01629328727722168  |\n",
    "|     svc_c=20     |  0.5602973079569759 |  0.5739130434782609 |  0.04863691329956055  |  0.015369176864624023 |\n",
    "+------------------+---------------------+---------------------+-----------------------+-----------------------+\n",
    "```\n",
    "Лучшие метрики дает svc с параметром C=20"
   ]
  }
 ],
 "metadata": {
  "interpreter": {
   "hash": "916dbcbb3f70747c44a77c7bcd40155683ae19c65e1c03b4aa3499c5328201f1"
  },
  "kernelspec": {
   "display_name": "Python 3.8.10 64-bit",
   "language": "python",
   "name": "python3"
  },
  "language_info": {
   "codemirror_mode": {
    "name": "ipython",
    "version": 3
   },
   "file_extension": ".py",
   "mimetype": "text/x-python",
   "name": "python",
   "nbconvert_exporter": "python",
   "pygments_lexer": "ipython3",
   "version": "3.8.10"
  },
  "orig_nbformat": 4,
  "vscode": {
   "interpreter": {
    "hash": "916dbcbb3f70747c44a77c7bcd40155683ae19c65e1c03b4aa3499c5328201f1"
   }
  }
 },
 "nbformat": 4,
 "nbformat_minor": 2
}
